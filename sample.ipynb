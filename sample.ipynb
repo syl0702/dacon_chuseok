{
 "cells": [
  {
   "cell_type": "code",
   "execution_count": 66,
   "id": "95243b43",
   "metadata": {},
   "outputs": [],
   "source": [
    "import pandas as pd\n",
    "import numpy as np\n",
    "import sklearn\n",
    "import matplotlib as mpl\n",
    "import matplotlib.pyplot as plt\n",
    "import seaborn as sns\n",
    "\n",
    "from sklearn.metrics import mean_squared_error\n",
    "from sklearn.preprocessing import OneHotEncoder\n",
    "from sklearn.preprocessing import StandardScaler, MinMaxScaler"
   ]
  },
  {
   "cell_type": "code",
   "execution_count": 67,
   "id": "94dd95c1",
   "metadata": {},
   "outputs": [],
   "source": [
    "path = \"./data/\"\n",
    "df = pd.read_csv(path+'train.csv')\n",
    "test = pd.read_csv(path+'test.csv')"
   ]
  },
  {
   "cell_type": "code",
   "execution_count": 68,
   "id": "28b83529",
   "metadata": {},
   "outputs": [],
   "source": [
    "cols = ['쇼핑몰 구분', '프로모션 여부', '도시 유형', '지역 유형', '쇼핑몰 유형', '선물 유형']"
   ]
  },
  {
   "cell_type": "code",
   "execution_count": 69,
   "id": "93804d17",
   "metadata": {},
   "outputs": [
    {
     "name": "stdout",
     "output_type": "stream",
     "text": [
      "쇼핑몰 구분 77\n",
      "프로모션 여부 2\n",
      "도시 유형 24\n",
      "지역 유형 8\n",
      "쇼핑몰 유형 3\n",
      "선물 유형 51\n"
     ]
    }
   ],
   "source": [
    "for col in cols:\n",
    "    print(col, len(df[col].unique()))"
   ]
  },
  {
   "cell_type": "code",
   "execution_count": 70,
   "id": "d579d36b",
   "metadata": {},
   "outputs": [
    {
     "name": "stdout",
     "output_type": "stream",
     "text": [
      "쇼핑몰 구분 77\n",
      "프로모션 여부 2\n",
      "도시 유형 24\n",
      "지역 유형 8\n",
      "쇼핑몰 유형 3\n",
      "선물 유형 51\n"
     ]
    }
   ],
   "source": [
    "for col in cols:\n",
    "    print(col, len(test[col].unique()))"
   ]
  },
  {
   "cell_type": "code",
   "execution_count": 71,
   "id": "de9dc29f",
   "metadata": {},
   "outputs": [],
   "source": [
    "from sklearn.preprocessing import OneHotEncoder\n",
    "def encoder(df):\n",
    "\n",
    "    if '쇼핑몰 구분' in df.columns:\n",
    "        if 'shopcat' not in globals():\n",
    "            global oheshopcat, shopcat\n",
    "            oheshopcat = OneHotEncoder(handle_unknown='ignore', sparse=False, drop='first')\n",
    "            shopcat= oheshopcat.fit_transform(df[['쇼핑몰 구분']])\n",
    "            shopcat = pd.DataFrame(shopcat)\n",
    "            shopcat.columns = oheshopcat.get_feature_names_out()\n",
    "            df.drop(columns = ['쇼핑몰 구분'], inplace=True)\n",
    "            shopcat.attrs['쇼핑몰 구분'] = 'shopcat'\n",
    "            \n",
    "        else:\n",
    "            global shopcatt\n",
    "            shopcatt = oheshopcat.transform(df[['쇼핑몰 구분']])\n",
    "            shopcatt = pd.DataFrame(shopcatt)\n",
    "            shopcatt.columns = oheshopcat.get_feature_names_out()\n",
    "            df.drop(columns = ['쇼핑몰 구분'], inplace=True)\n",
    "\n",
    "            \n",
    "    if '도시 유형' in df.columns:\n",
    "        if 'city' not in globals():\n",
    "            global ohecity, city\n",
    "            ohecity = OneHotEncoder(sparse = False, handle_unknown='ignore', drop='first')\n",
    "            city = ohecity.fit_transform(df[['도시 유형']])\n",
    "            city = pd.DataFrame(city)\n",
    "            city.columns = ohecity.get_feature_names_out()\n",
    "            df.drop(columns = ['도시 유형'], inplace=True)\n",
    "            city.attrs['city'] = 'city'\n",
    "            \n",
    "        else:\n",
    "            global cityt\n",
    "            cityt = ohecity.transform(df[['도시 유형']])\n",
    "            cityt = pd.DataFrame(cityt)\n",
    "            cityt.columns = ohecity.get_feature_names_out()\n",
    "            df.drop(columns = ['도시 유형'], inplace=True)\n",
    "            \n",
    "            \n",
    "    if '지역 유형' in df.columns:\n",
    "        if 'prov' not in globals():\n",
    "            global oheprov, prov\n",
    "            oheprov = OneHotEncoder(sparse = False, handle_unknown='ignore', drop='first')\n",
    "            prov = oheprov.fit_transform(df[['지역 유형']])\n",
    "            prov = pd.DataFrame(prov)\n",
    "            prov.columns = oheprov.get_feature_names_out()\n",
    "            df.drop(columns = ['지역 유형'], inplace=True)\n",
    "            prov.attrs['prov'] = 'prov'\n",
    "\n",
    "        else:    \n",
    "            global provt\n",
    "            provt = oheprov.transform(df[['지역 유형']])\n",
    "            provt = pd.DataFrame(provt)\n",
    "            provt.columns = oheprov.get_feature_names_out()\n",
    "            df.drop(columns = ['지역 유형'], inplace=True)\n",
    "\n",
    "    \n",
    "    if '쇼핑몰 유형' in df.columns:\n",
    "        if 'shoptype' not in globals():\n",
    "            global oheshoptype, shoptype\n",
    "            oheshoptype = OneHotEncoder(sparse = False, handle_unknown='ignore', drop='first')\n",
    "            shoptype = oheshoptype.fit_transform(df[['쇼핑몰 유형']])\n",
    "            shoptype = pd.DataFrame(shoptype)\n",
    "            shoptype.columns = oheshoptype.get_feature_names_out()\n",
    "            df.drop(columns = ['쇼핑몰 유형'], inplace=True)\n",
    "            shoptype.attrs['shoptype'] = 'shoptype'\n",
    "            \n",
    "        else:\n",
    "            global shoptypet\n",
    "            shoptypet = oheshoptype.transform(df[['쇼핑몰 유형']])\n",
    "            shoptypet = pd.DataFrame(shoptypet)\n",
    "            shoptypet.columns = oheshoptype.get_feature_names_out()\n",
    "            df.drop(columns = ['쇼핑몰 유형'], inplace=True)\n",
    "            \n",
    "            \n",
    "    if '선물 유형' in df.columns:\n",
    "        if 'present' not in globals():\n",
    "            global ohepresent, present\n",
    "            ohepresent = OneHotEncoder(sparse = False, handle_unknown='ignore', drop='first')\n",
    "            present = ohepresent.fit_transform(df[['선물 유형']])\n",
    "            present = pd.DataFrame(present)\n",
    "            present.columns = ohepresent.get_feature_names_out()\n",
    "            df.drop(columns = ['선물 유형'], inplace=True)\n",
    "            shoptype.attrs['present'] = 'present'\n",
    "\n",
    "        else:\n",
    "            global presentt\n",
    "            presentt = ohepresent.transform(df[['선물 유형']])\n",
    "            presentt = pd.DataFrame(presentt)\n",
    "            presentt.columns = ohepresent.get_feature_names_out()\n",
    "            df.drop(columns = ['선물 유형'], inplace=True)"
   ]
  },
  {
   "cell_type": "code",
   "execution_count": 72,
   "id": "446fdf32",
   "metadata": {},
   "outputs": [],
   "source": [
    "encoder(df)"
   ]
  },
  {
   "cell_type": "code",
   "execution_count": 73,
   "id": "70df9e89",
   "metadata": {},
   "outputs": [],
   "source": [
    "df2 = pd.concat([df, shopcat, city, prov, shoptype, present], axis=1)"
   ]
  },
  {
   "cell_type": "code",
   "execution_count": 74,
   "id": "e2e14a33",
   "metadata": {},
   "outputs": [
    {
     "data": {
      "text/html": [
       "<div>\n",
       "<style scoped>\n",
       "    .dataframe tbody tr th:only-of-type {\n",
       "        vertical-align: middle;\n",
       "    }\n",
       "\n",
       "    .dataframe tbody tr th {\n",
       "        vertical-align: top;\n",
       "    }\n",
       "\n",
       "    .dataframe thead th {\n",
       "        text-align: right;\n",
       "    }\n",
       "</style>\n",
       "<table border=\"1\" class=\"dataframe\">\n",
       "  <thead>\n",
       "    <tr style=\"text-align: right;\">\n",
       "      <th></th>\n",
       "      <th>ID</th>\n",
       "      <th>추석까지 남은 기간(주)</th>\n",
       "      <th>가격(원)</th>\n",
       "      <th>프로모션 여부</th>\n",
       "      <th>수요량</th>\n",
       "      <th>쇼핑몰 구분_쇼핑몰 10</th>\n",
       "      <th>쇼핑몰 구분_쇼핑몰 11</th>\n",
       "      <th>쇼핑몰 구분_쇼핑몰 12</th>\n",
       "      <th>쇼핑몰 구분_쇼핑몰 13</th>\n",
       "      <th>쇼핑몰 구분_쇼핑몰 14</th>\n",
       "      <th>...</th>\n",
       "      <th>선물 유형_프리미엄견과선물세트</th>\n",
       "      <th>선물 유형_프리미엄고당도샤인머스캣선물세트</th>\n",
       "      <th>선물 유형_프리미엄올리브유선물세트</th>\n",
       "      <th>선물 유형_프리미엄왕곶감선물세트</th>\n",
       "      <th>선물 유형_프리미엄종합스팸선물세트</th>\n",
       "      <th>선물 유형_프리미엄특선스팸선물세트</th>\n",
       "      <th>선물 유형_프리미엄한과선물세트</th>\n",
       "      <th>선물 유형_프리미엄한우선물세트</th>\n",
       "      <th>선물 유형_한과종합선물세트</th>\n",
       "      <th>선물 유형_행복스팸선물세트</th>\n",
       "    </tr>\n",
       "  </thead>\n",
       "  <tbody>\n",
       "    <tr>\n",
       "      <th>0</th>\n",
       "      <td>TRAIN_0000</td>\n",
       "      <td>1</td>\n",
       "      <td>212000</td>\n",
       "      <td>0</td>\n",
       "      <td>28</td>\n",
       "      <td>0.0</td>\n",
       "      <td>0.0</td>\n",
       "      <td>0.0</td>\n",
       "      <td>0.0</td>\n",
       "      <td>0.0</td>\n",
       "      <td>...</td>\n",
       "      <td>0.0</td>\n",
       "      <td>0.0</td>\n",
       "      <td>0.0</td>\n",
       "      <td>0.0</td>\n",
       "      <td>0.0</td>\n",
       "      <td>0.0</td>\n",
       "      <td>0.0</td>\n",
       "      <td>0.0</td>\n",
       "      <td>0.0</td>\n",
       "      <td>0.0</td>\n",
       "    </tr>\n",
       "    <tr>\n",
       "      <th>1</th>\n",
       "      <td>TRAIN_0001</td>\n",
       "      <td>2</td>\n",
       "      <td>113000</td>\n",
       "      <td>0</td>\n",
       "      <td>27</td>\n",
       "      <td>0.0</td>\n",
       "      <td>0.0</td>\n",
       "      <td>0.0</td>\n",
       "      <td>0.0</td>\n",
       "      <td>0.0</td>\n",
       "      <td>...</td>\n",
       "      <td>0.0</td>\n",
       "      <td>0.0</td>\n",
       "      <td>0.0</td>\n",
       "      <td>0.0</td>\n",
       "      <td>0.0</td>\n",
       "      <td>0.0</td>\n",
       "      <td>0.0</td>\n",
       "      <td>0.0</td>\n",
       "      <td>0.0</td>\n",
       "      <td>0.0</td>\n",
       "    </tr>\n",
       "    <tr>\n",
       "      <th>2</th>\n",
       "      <td>TRAIN_0002</td>\n",
       "      <td>0</td>\n",
       "      <td>67000</td>\n",
       "      <td>0</td>\n",
       "      <td>769</td>\n",
       "      <td>0.0</td>\n",
       "      <td>0.0</td>\n",
       "      <td>0.0</td>\n",
       "      <td>0.0</td>\n",
       "      <td>0.0</td>\n",
       "      <td>...</td>\n",
       "      <td>0.0</td>\n",
       "      <td>0.0</td>\n",
       "      <td>0.0</td>\n",
       "      <td>0.0</td>\n",
       "      <td>0.0</td>\n",
       "      <td>0.0</td>\n",
       "      <td>0.0</td>\n",
       "      <td>0.0</td>\n",
       "      <td>0.0</td>\n",
       "      <td>0.0</td>\n",
       "    </tr>\n",
       "    <tr>\n",
       "      <th>3</th>\n",
       "      <td>TRAIN_0003</td>\n",
       "      <td>1</td>\n",
       "      <td>206000</td>\n",
       "      <td>0</td>\n",
       "      <td>27</td>\n",
       "      <td>0.0</td>\n",
       "      <td>0.0</td>\n",
       "      <td>0.0</td>\n",
       "      <td>1.0</td>\n",
       "      <td>0.0</td>\n",
       "      <td>...</td>\n",
       "      <td>0.0</td>\n",
       "      <td>0.0</td>\n",
       "      <td>0.0</td>\n",
       "      <td>0.0</td>\n",
       "      <td>0.0</td>\n",
       "      <td>0.0</td>\n",
       "      <td>0.0</td>\n",
       "      <td>0.0</td>\n",
       "      <td>0.0</td>\n",
       "      <td>0.0</td>\n",
       "    </tr>\n",
       "    <tr>\n",
       "      <th>4</th>\n",
       "      <td>TRAIN_0004</td>\n",
       "      <td>1</td>\n",
       "      <td>140000</td>\n",
       "      <td>0</td>\n",
       "      <td>337</td>\n",
       "      <td>0.0</td>\n",
       "      <td>0.0</td>\n",
       "      <td>0.0</td>\n",
       "      <td>0.0</td>\n",
       "      <td>0.0</td>\n",
       "      <td>...</td>\n",
       "      <td>0.0</td>\n",
       "      <td>0.0</td>\n",
       "      <td>0.0</td>\n",
       "      <td>0.0</td>\n",
       "      <td>0.0</td>\n",
       "      <td>0.0</td>\n",
       "      <td>0.0</td>\n",
       "      <td>0.0</td>\n",
       "      <td>0.0</td>\n",
       "      <td>0.0</td>\n",
       "    </tr>\n",
       "    <tr>\n",
       "      <th>...</th>\n",
       "      <td>...</td>\n",
       "      <td>...</td>\n",
       "      <td>...</td>\n",
       "      <td>...</td>\n",
       "      <td>...</td>\n",
       "      <td>...</td>\n",
       "      <td>...</td>\n",
       "      <td>...</td>\n",
       "      <td>...</td>\n",
       "      <td>...</td>\n",
       "      <td>...</td>\n",
       "      <td>...</td>\n",
       "      <td>...</td>\n",
       "      <td>...</td>\n",
       "      <td>...</td>\n",
       "      <td>...</td>\n",
       "      <td>...</td>\n",
       "      <td>...</td>\n",
       "      <td>...</td>\n",
       "      <td>...</td>\n",
       "      <td>...</td>\n",
       "    </tr>\n",
       "    <tr>\n",
       "      <th>5867</th>\n",
       "      <td>TRAIN_5867</td>\n",
       "      <td>2</td>\n",
       "      <td>225000</td>\n",
       "      <td>0</td>\n",
       "      <td>27</td>\n",
       "      <td>0.0</td>\n",
       "      <td>0.0</td>\n",
       "      <td>0.0</td>\n",
       "      <td>0.0</td>\n",
       "      <td>0.0</td>\n",
       "      <td>...</td>\n",
       "      <td>0.0</td>\n",
       "      <td>0.0</td>\n",
       "      <td>0.0</td>\n",
       "      <td>0.0</td>\n",
       "      <td>0.0</td>\n",
       "      <td>0.0</td>\n",
       "      <td>0.0</td>\n",
       "      <td>0.0</td>\n",
       "      <td>0.0</td>\n",
       "      <td>0.0</td>\n",
       "    </tr>\n",
       "    <tr>\n",
       "      <th>5868</th>\n",
       "      <td>TRAIN_5868</td>\n",
       "      <td>2</td>\n",
       "      <td>62000</td>\n",
       "      <td>0</td>\n",
       "      <td>40</td>\n",
       "      <td>0.0</td>\n",
       "      <td>0.0</td>\n",
       "      <td>0.0</td>\n",
       "      <td>0.0</td>\n",
       "      <td>0.0</td>\n",
       "      <td>...</td>\n",
       "      <td>0.0</td>\n",
       "      <td>0.0</td>\n",
       "      <td>0.0</td>\n",
       "      <td>0.0</td>\n",
       "      <td>0.0</td>\n",
       "      <td>0.0</td>\n",
       "      <td>0.0</td>\n",
       "      <td>0.0</td>\n",
       "      <td>0.0</td>\n",
       "      <td>0.0</td>\n",
       "    </tr>\n",
       "    <tr>\n",
       "      <th>5869</th>\n",
       "      <td>TRAIN_5869</td>\n",
       "      <td>2</td>\n",
       "      <td>131000</td>\n",
       "      <td>0</td>\n",
       "      <td>55</td>\n",
       "      <td>0.0</td>\n",
       "      <td>0.0</td>\n",
       "      <td>0.0</td>\n",
       "      <td>0.0</td>\n",
       "      <td>0.0</td>\n",
       "      <td>...</td>\n",
       "      <td>0.0</td>\n",
       "      <td>0.0</td>\n",
       "      <td>0.0</td>\n",
       "      <td>0.0</td>\n",
       "      <td>0.0</td>\n",
       "      <td>0.0</td>\n",
       "      <td>0.0</td>\n",
       "      <td>0.0</td>\n",
       "      <td>0.0</td>\n",
       "      <td>0.0</td>\n",
       "    </tr>\n",
       "    <tr>\n",
       "      <th>5870</th>\n",
       "      <td>TRAIN_5870</td>\n",
       "      <td>2</td>\n",
       "      <td>85000</td>\n",
       "      <td>0</td>\n",
       "      <td>231</td>\n",
       "      <td>0.0</td>\n",
       "      <td>0.0</td>\n",
       "      <td>0.0</td>\n",
       "      <td>0.0</td>\n",
       "      <td>0.0</td>\n",
       "      <td>...</td>\n",
       "      <td>0.0</td>\n",
       "      <td>0.0</td>\n",
       "      <td>0.0</td>\n",
       "      <td>0.0</td>\n",
       "      <td>0.0</td>\n",
       "      <td>0.0</td>\n",
       "      <td>0.0</td>\n",
       "      <td>0.0</td>\n",
       "      <td>0.0</td>\n",
       "      <td>0.0</td>\n",
       "    </tr>\n",
       "    <tr>\n",
       "      <th>5871</th>\n",
       "      <td>TRAIN_5871</td>\n",
       "      <td>0</td>\n",
       "      <td>79000</td>\n",
       "      <td>0</td>\n",
       "      <td>148</td>\n",
       "      <td>0.0</td>\n",
       "      <td>0.0</td>\n",
       "      <td>0.0</td>\n",
       "      <td>0.0</td>\n",
       "      <td>0.0</td>\n",
       "      <td>...</td>\n",
       "      <td>0.0</td>\n",
       "      <td>0.0</td>\n",
       "      <td>0.0</td>\n",
       "      <td>0.0</td>\n",
       "      <td>0.0</td>\n",
       "      <td>0.0</td>\n",
       "      <td>0.0</td>\n",
       "      <td>0.0</td>\n",
       "      <td>0.0</td>\n",
       "      <td>0.0</td>\n",
       "    </tr>\n",
       "  </tbody>\n",
       "</table>\n",
       "<p>5872 rows × 163 columns</p>\n",
       "</div>"
      ],
      "text/plain": [
       "              ID  추석까지 남은 기간(주)   가격(원)  프로모션 여부  수요량  쇼핑몰 구분_쇼핑몰 10   \n",
       "0     TRAIN_0000              1  212000        0   28            0.0  \\\n",
       "1     TRAIN_0001              2  113000        0   27            0.0   \n",
       "2     TRAIN_0002              0   67000        0  769            0.0   \n",
       "3     TRAIN_0003              1  206000        0   27            0.0   \n",
       "4     TRAIN_0004              1  140000        0  337            0.0   \n",
       "...          ...            ...     ...      ...  ...            ...   \n",
       "5867  TRAIN_5867              2  225000        0   27            0.0   \n",
       "5868  TRAIN_5868              2   62000        0   40            0.0   \n",
       "5869  TRAIN_5869              2  131000        0   55            0.0   \n",
       "5870  TRAIN_5870              2   85000        0  231            0.0   \n",
       "5871  TRAIN_5871              0   79000        0  148            0.0   \n",
       "\n",
       "      쇼핑몰 구분_쇼핑몰 11  쇼핑몰 구분_쇼핑몰 12  쇼핑몰 구분_쇼핑몰 13  쇼핑몰 구분_쇼핑몰 14  ...   \n",
       "0               0.0            0.0            0.0            0.0  ...  \\\n",
       "1               0.0            0.0            0.0            0.0  ...   \n",
       "2               0.0            0.0            0.0            0.0  ...   \n",
       "3               0.0            0.0            1.0            0.0  ...   \n",
       "4               0.0            0.0            0.0            0.0  ...   \n",
       "...             ...            ...            ...            ...  ...   \n",
       "5867            0.0            0.0            0.0            0.0  ...   \n",
       "5868            0.0            0.0            0.0            0.0  ...   \n",
       "5869            0.0            0.0            0.0            0.0  ...   \n",
       "5870            0.0            0.0            0.0            0.0  ...   \n",
       "5871            0.0            0.0            0.0            0.0  ...   \n",
       "\n",
       "      선물 유형_프리미엄견과선물세트  선물 유형_프리미엄고당도샤인머스캣선물세트  선물 유형_프리미엄올리브유선물세트   \n",
       "0                  0.0                     0.0                 0.0  \\\n",
       "1                  0.0                     0.0                 0.0   \n",
       "2                  0.0                     0.0                 0.0   \n",
       "3                  0.0                     0.0                 0.0   \n",
       "4                  0.0                     0.0                 0.0   \n",
       "...                ...                     ...                 ...   \n",
       "5867               0.0                     0.0                 0.0   \n",
       "5868               0.0                     0.0                 0.0   \n",
       "5869               0.0                     0.0                 0.0   \n",
       "5870               0.0                     0.0                 0.0   \n",
       "5871               0.0                     0.0                 0.0   \n",
       "\n",
       "      선물 유형_프리미엄왕곶감선물세트  선물 유형_프리미엄종합스팸선물세트  선물 유형_프리미엄특선스팸선물세트   \n",
       "0                   0.0                 0.0                 0.0  \\\n",
       "1                   0.0                 0.0                 0.0   \n",
       "2                   0.0                 0.0                 0.0   \n",
       "3                   0.0                 0.0                 0.0   \n",
       "4                   0.0                 0.0                 0.0   \n",
       "...                 ...                 ...                 ...   \n",
       "5867                0.0                 0.0                 0.0   \n",
       "5868                0.0                 0.0                 0.0   \n",
       "5869                0.0                 0.0                 0.0   \n",
       "5870                0.0                 0.0                 0.0   \n",
       "5871                0.0                 0.0                 0.0   \n",
       "\n",
       "      선물 유형_프리미엄한과선물세트  선물 유형_프리미엄한우선물세트  선물 유형_한과종합선물세트  선물 유형_행복스팸선물세트  \n",
       "0                  0.0               0.0             0.0             0.0  \n",
       "1                  0.0               0.0             0.0             0.0  \n",
       "2                  0.0               0.0             0.0             0.0  \n",
       "3                  0.0               0.0             0.0             0.0  \n",
       "4                  0.0               0.0             0.0             0.0  \n",
       "...                ...               ...             ...             ...  \n",
       "5867               0.0               0.0             0.0             0.0  \n",
       "5868               0.0               0.0             0.0             0.0  \n",
       "5869               0.0               0.0             0.0             0.0  \n",
       "5870               0.0               0.0             0.0             0.0  \n",
       "5871               0.0               0.0             0.0             0.0  \n",
       "\n",
       "[5872 rows x 163 columns]"
      ]
     },
     "execution_count": 74,
     "metadata": {},
     "output_type": "execute_result"
    }
   ],
   "source": [
    "df2"
   ]
  },
  {
   "cell_type": "code",
   "execution_count": 75,
   "id": "b9260e38",
   "metadata": {},
   "outputs": [],
   "source": [
    "train = df2[df2.columns[1:]]\n",
    "target = df2['수요량']"
   ]
  },
  {
   "cell_type": "code",
   "execution_count": 76,
   "id": "a548e2f9",
   "metadata": {},
   "outputs": [
    {
     "name": "stderr",
     "output_type": "stream",
     "text": [
      "C:\\Users\\dohyeong\\AppData\\Local\\Temp\\ipykernel_18548\\593929941.py:1: SettingWithCopyWarning: \n",
      "A value is trying to be set on a copy of a slice from a DataFrame\n",
      "\n",
      "See the caveats in the documentation: https://pandas.pydata.org/pandas-docs/stable/user_guide/indexing.html#returning-a-view-versus-a-copy\n",
      "  train.drop(columns = ['수요량'], inplace=True)\n"
     ]
    }
   ],
   "source": [
    "train.drop(columns = ['수요량'], inplace=True)"
   ]
  },
  {
   "cell_type": "code",
   "execution_count": 77,
   "id": "eb97eed2",
   "metadata": {},
   "outputs": [],
   "source": [
    "stdsc = StandardScaler()\n",
    "mmssc = MinMaxScaler()"
   ]
  },
  {
   "cell_type": "code",
   "execution_count": 14,
   "id": "59968691",
   "metadata": {},
   "outputs": [
    {
     "data": {
      "text/html": [
       "<style>#sk-container-id-1 {color: black;background-color: white;}#sk-container-id-1 pre{padding: 0;}#sk-container-id-1 div.sk-toggleable {background-color: white;}#sk-container-id-1 label.sk-toggleable__label {cursor: pointer;display: block;width: 100%;margin-bottom: 0;padding: 0.3em;box-sizing: border-box;text-align: center;}#sk-container-id-1 label.sk-toggleable__label-arrow:before {content: \"▸\";float: left;margin-right: 0.25em;color: #696969;}#sk-container-id-1 label.sk-toggleable__label-arrow:hover:before {color: black;}#sk-container-id-1 div.sk-estimator:hover label.sk-toggleable__label-arrow:before {color: black;}#sk-container-id-1 div.sk-toggleable__content {max-height: 0;max-width: 0;overflow: hidden;text-align: left;background-color: #f0f8ff;}#sk-container-id-1 div.sk-toggleable__content pre {margin: 0.2em;color: black;border-radius: 0.25em;background-color: #f0f8ff;}#sk-container-id-1 input.sk-toggleable__control:checked~div.sk-toggleable__content {max-height: 200px;max-width: 100%;overflow: auto;}#sk-container-id-1 input.sk-toggleable__control:checked~label.sk-toggleable__label-arrow:before {content: \"▾\";}#sk-container-id-1 div.sk-estimator input.sk-toggleable__control:checked~label.sk-toggleable__label {background-color: #d4ebff;}#sk-container-id-1 div.sk-label input.sk-toggleable__control:checked~label.sk-toggleable__label {background-color: #d4ebff;}#sk-container-id-1 input.sk-hidden--visually {border: 0;clip: rect(1px 1px 1px 1px);clip: rect(1px, 1px, 1px, 1px);height: 1px;margin: -1px;overflow: hidden;padding: 0;position: absolute;width: 1px;}#sk-container-id-1 div.sk-estimator {font-family: monospace;background-color: #f0f8ff;border: 1px dotted black;border-radius: 0.25em;box-sizing: border-box;margin-bottom: 0.5em;}#sk-container-id-1 div.sk-estimator:hover {background-color: #d4ebff;}#sk-container-id-1 div.sk-parallel-item::after {content: \"\";width: 100%;border-bottom: 1px solid gray;flex-grow: 1;}#sk-container-id-1 div.sk-label:hover label.sk-toggleable__label {background-color: #d4ebff;}#sk-container-id-1 div.sk-serial::before {content: \"\";position: absolute;border-left: 1px solid gray;box-sizing: border-box;top: 0;bottom: 0;left: 50%;z-index: 0;}#sk-container-id-1 div.sk-serial {display: flex;flex-direction: column;align-items: center;background-color: white;padding-right: 0.2em;padding-left: 0.2em;position: relative;}#sk-container-id-1 div.sk-item {position: relative;z-index: 1;}#sk-container-id-1 div.sk-parallel {display: flex;align-items: stretch;justify-content: center;background-color: white;position: relative;}#sk-container-id-1 div.sk-item::before, #sk-container-id-1 div.sk-parallel-item::before {content: \"\";position: absolute;border-left: 1px solid gray;box-sizing: border-box;top: 0;bottom: 0;left: 50%;z-index: -1;}#sk-container-id-1 div.sk-parallel-item {display: flex;flex-direction: column;z-index: 1;position: relative;background-color: white;}#sk-container-id-1 div.sk-parallel-item:first-child::after {align-self: flex-end;width: 50%;}#sk-container-id-1 div.sk-parallel-item:last-child::after {align-self: flex-start;width: 50%;}#sk-container-id-1 div.sk-parallel-item:only-child::after {width: 0;}#sk-container-id-1 div.sk-dashed-wrapped {border: 1px dashed gray;margin: 0 0.4em 0.5em 0.4em;box-sizing: border-box;padding-bottom: 0.4em;background-color: white;}#sk-container-id-1 div.sk-label label {font-family: monospace;font-weight: bold;display: inline-block;line-height: 1.2em;}#sk-container-id-1 div.sk-label-container {text-align: center;}#sk-container-id-1 div.sk-container {/* jupyter's `normalize.less` sets `[hidden] { display: none; }` but bootstrap.min.css set `[hidden] { display: none !important; }` so we also need the `!important` here to be able to override the default hidden behavior on the sphinx rendered scikit-learn.org. See: https://github.com/scikit-learn/scikit-learn/issues/21755 */display: inline-block !important;position: relative;}#sk-container-id-1 div.sk-text-repr-fallback {display: none;}</style><div id=\"sk-container-id-1\" class=\"sk-top-container\"><div class=\"sk-text-repr-fallback\"><pre>StandardScaler()</pre><b>In a Jupyter environment, please rerun this cell to show the HTML representation or trust the notebook. <br />On GitHub, the HTML representation is unable to render, please try loading this page with nbviewer.org.</b></div><div class=\"sk-container\" hidden><div class=\"sk-item\"><div class=\"sk-estimator sk-toggleable\"><input class=\"sk-toggleable__control sk-hidden--visually\" id=\"sk-estimator-id-1\" type=\"checkbox\" checked><label for=\"sk-estimator-id-1\" class=\"sk-toggleable__label sk-toggleable__label-arrow\">StandardScaler</label><div class=\"sk-toggleable__content\"><pre>StandardScaler()</pre></div></div></div></div></div>"
      ],
      "text/plain": [
       "StandardScaler()"
      ]
     },
     "execution_count": 14,
     "metadata": {},
     "output_type": "execute_result"
    }
   ],
   "source": [
    "stdsc.fit(train[['가격(원)']])"
   ]
  },
  {
   "cell_type": "code",
   "execution_count": 78,
   "id": "8e136b06",
   "metadata": {},
   "outputs": [
    {
     "data": {
      "text/html": [
       "<style>#sk-container-id-3 {color: black;background-color: white;}#sk-container-id-3 pre{padding: 0;}#sk-container-id-3 div.sk-toggleable {background-color: white;}#sk-container-id-3 label.sk-toggleable__label {cursor: pointer;display: block;width: 100%;margin-bottom: 0;padding: 0.3em;box-sizing: border-box;text-align: center;}#sk-container-id-3 label.sk-toggleable__label-arrow:before {content: \"▸\";float: left;margin-right: 0.25em;color: #696969;}#sk-container-id-3 label.sk-toggleable__label-arrow:hover:before {color: black;}#sk-container-id-3 div.sk-estimator:hover label.sk-toggleable__label-arrow:before {color: black;}#sk-container-id-3 div.sk-toggleable__content {max-height: 0;max-width: 0;overflow: hidden;text-align: left;background-color: #f0f8ff;}#sk-container-id-3 div.sk-toggleable__content pre {margin: 0.2em;color: black;border-radius: 0.25em;background-color: #f0f8ff;}#sk-container-id-3 input.sk-toggleable__control:checked~div.sk-toggleable__content {max-height: 200px;max-width: 100%;overflow: auto;}#sk-container-id-3 input.sk-toggleable__control:checked~label.sk-toggleable__label-arrow:before {content: \"▾\";}#sk-container-id-3 div.sk-estimator input.sk-toggleable__control:checked~label.sk-toggleable__label {background-color: #d4ebff;}#sk-container-id-3 div.sk-label input.sk-toggleable__control:checked~label.sk-toggleable__label {background-color: #d4ebff;}#sk-container-id-3 input.sk-hidden--visually {border: 0;clip: rect(1px 1px 1px 1px);clip: rect(1px, 1px, 1px, 1px);height: 1px;margin: -1px;overflow: hidden;padding: 0;position: absolute;width: 1px;}#sk-container-id-3 div.sk-estimator {font-family: monospace;background-color: #f0f8ff;border: 1px dotted black;border-radius: 0.25em;box-sizing: border-box;margin-bottom: 0.5em;}#sk-container-id-3 div.sk-estimator:hover {background-color: #d4ebff;}#sk-container-id-3 div.sk-parallel-item::after {content: \"\";width: 100%;border-bottom: 1px solid gray;flex-grow: 1;}#sk-container-id-3 div.sk-label:hover label.sk-toggleable__label {background-color: #d4ebff;}#sk-container-id-3 div.sk-serial::before {content: \"\";position: absolute;border-left: 1px solid gray;box-sizing: border-box;top: 0;bottom: 0;left: 50%;z-index: 0;}#sk-container-id-3 div.sk-serial {display: flex;flex-direction: column;align-items: center;background-color: white;padding-right: 0.2em;padding-left: 0.2em;position: relative;}#sk-container-id-3 div.sk-item {position: relative;z-index: 1;}#sk-container-id-3 div.sk-parallel {display: flex;align-items: stretch;justify-content: center;background-color: white;position: relative;}#sk-container-id-3 div.sk-item::before, #sk-container-id-3 div.sk-parallel-item::before {content: \"\";position: absolute;border-left: 1px solid gray;box-sizing: border-box;top: 0;bottom: 0;left: 50%;z-index: -1;}#sk-container-id-3 div.sk-parallel-item {display: flex;flex-direction: column;z-index: 1;position: relative;background-color: white;}#sk-container-id-3 div.sk-parallel-item:first-child::after {align-self: flex-end;width: 50%;}#sk-container-id-3 div.sk-parallel-item:last-child::after {align-self: flex-start;width: 50%;}#sk-container-id-3 div.sk-parallel-item:only-child::after {width: 0;}#sk-container-id-3 div.sk-dashed-wrapped {border: 1px dashed gray;margin: 0 0.4em 0.5em 0.4em;box-sizing: border-box;padding-bottom: 0.4em;background-color: white;}#sk-container-id-3 div.sk-label label {font-family: monospace;font-weight: bold;display: inline-block;line-height: 1.2em;}#sk-container-id-3 div.sk-label-container {text-align: center;}#sk-container-id-3 div.sk-container {/* jupyter's `normalize.less` sets `[hidden] { display: none; }` but bootstrap.min.css set `[hidden] { display: none !important; }` so we also need the `!important` here to be able to override the default hidden behavior on the sphinx rendered scikit-learn.org. See: https://github.com/scikit-learn/scikit-learn/issues/21755 */display: inline-block !important;position: relative;}#sk-container-id-3 div.sk-text-repr-fallback {display: none;}</style><div id=\"sk-container-id-3\" class=\"sk-top-container\"><div class=\"sk-text-repr-fallback\"><pre>MinMaxScaler()</pre><b>In a Jupyter environment, please rerun this cell to show the HTML representation or trust the notebook. <br />On GitHub, the HTML representation is unable to render, please try loading this page with nbviewer.org.</b></div><div class=\"sk-container\" hidden><div class=\"sk-item\"><div class=\"sk-estimator sk-toggleable\"><input class=\"sk-toggleable__control sk-hidden--visually\" id=\"sk-estimator-id-3\" type=\"checkbox\" checked><label for=\"sk-estimator-id-3\" class=\"sk-toggleable__label sk-toggleable__label-arrow\">MinMaxScaler</label><div class=\"sk-toggleable__content\"><pre>MinMaxScaler()</pre></div></div></div></div></div>"
      ],
      "text/plain": [
       "MinMaxScaler()"
      ]
     },
     "execution_count": 78,
     "metadata": {},
     "output_type": "execute_result"
    }
   ],
   "source": [
    "mmssc.fit(train[['가격(원)']])"
   ]
  },
  {
   "cell_type": "code",
   "execution_count": 79,
   "id": "f4e344f8",
   "metadata": {},
   "outputs": [
    {
     "name": "stderr",
     "output_type": "stream",
     "text": [
      "C:\\Users\\dohyeong\\AppData\\Local\\Temp\\ipykernel_18548\\605961844.py:1: SettingWithCopyWarning: \n",
      "A value is trying to be set on a copy of a slice from a DataFrame.\n",
      "Try using .loc[row_indexer,col_indexer] = value instead\n",
      "\n",
      "See the caveats in the documentation: https://pandas.pydata.org/pandas-docs/stable/user_guide/indexing.html#returning-a-view-versus-a-copy\n",
      "  train['가격(원)'] = mmssc.transform(train[['가격(원)']])\n"
     ]
    }
   ],
   "source": [
    "train['가격(원)'] = mmssc.transform(train[['가격(원)']])"
   ]
  },
  {
   "cell_type": "code",
   "execution_count": 80,
   "id": "f6cf35ed",
   "metadata": {},
   "outputs": [],
   "source": [
    "from sklearn.ensemble import RandomForestRegressor"
   ]
  },
  {
   "cell_type": "code",
   "execution_count": 81,
   "id": "bb169965",
   "metadata": {},
   "outputs": [],
   "source": [
    "rfr = RandomForestRegressor()"
   ]
  },
  {
   "cell_type": "code",
   "execution_count": 82,
   "id": "d4e9fa56",
   "metadata": {},
   "outputs": [],
   "source": [
    "from sklearn.model_selection import train_test_split"
   ]
  },
  {
   "cell_type": "code",
   "execution_count": 83,
   "id": "9668cf6b",
   "metadata": {},
   "outputs": [],
   "source": [
    "xtr, xte, ytr, yte = train_test_split(train, target, test_size=0.3)"
   ]
  },
  {
   "cell_type": "code",
   "execution_count": 84,
   "id": "d27e75f7",
   "metadata": {},
   "outputs": [
    {
     "data": {
      "text/html": [
       "<style>#sk-container-id-4 {color: black;background-color: white;}#sk-container-id-4 pre{padding: 0;}#sk-container-id-4 div.sk-toggleable {background-color: white;}#sk-container-id-4 label.sk-toggleable__label {cursor: pointer;display: block;width: 100%;margin-bottom: 0;padding: 0.3em;box-sizing: border-box;text-align: center;}#sk-container-id-4 label.sk-toggleable__label-arrow:before {content: \"▸\";float: left;margin-right: 0.25em;color: #696969;}#sk-container-id-4 label.sk-toggleable__label-arrow:hover:before {color: black;}#sk-container-id-4 div.sk-estimator:hover label.sk-toggleable__label-arrow:before {color: black;}#sk-container-id-4 div.sk-toggleable__content {max-height: 0;max-width: 0;overflow: hidden;text-align: left;background-color: #f0f8ff;}#sk-container-id-4 div.sk-toggleable__content pre {margin: 0.2em;color: black;border-radius: 0.25em;background-color: #f0f8ff;}#sk-container-id-4 input.sk-toggleable__control:checked~div.sk-toggleable__content {max-height: 200px;max-width: 100%;overflow: auto;}#sk-container-id-4 input.sk-toggleable__control:checked~label.sk-toggleable__label-arrow:before {content: \"▾\";}#sk-container-id-4 div.sk-estimator input.sk-toggleable__control:checked~label.sk-toggleable__label {background-color: #d4ebff;}#sk-container-id-4 div.sk-label input.sk-toggleable__control:checked~label.sk-toggleable__label {background-color: #d4ebff;}#sk-container-id-4 input.sk-hidden--visually {border: 0;clip: rect(1px 1px 1px 1px);clip: rect(1px, 1px, 1px, 1px);height: 1px;margin: -1px;overflow: hidden;padding: 0;position: absolute;width: 1px;}#sk-container-id-4 div.sk-estimator {font-family: monospace;background-color: #f0f8ff;border: 1px dotted black;border-radius: 0.25em;box-sizing: border-box;margin-bottom: 0.5em;}#sk-container-id-4 div.sk-estimator:hover {background-color: #d4ebff;}#sk-container-id-4 div.sk-parallel-item::after {content: \"\";width: 100%;border-bottom: 1px solid gray;flex-grow: 1;}#sk-container-id-4 div.sk-label:hover label.sk-toggleable__label {background-color: #d4ebff;}#sk-container-id-4 div.sk-serial::before {content: \"\";position: absolute;border-left: 1px solid gray;box-sizing: border-box;top: 0;bottom: 0;left: 50%;z-index: 0;}#sk-container-id-4 div.sk-serial {display: flex;flex-direction: column;align-items: center;background-color: white;padding-right: 0.2em;padding-left: 0.2em;position: relative;}#sk-container-id-4 div.sk-item {position: relative;z-index: 1;}#sk-container-id-4 div.sk-parallel {display: flex;align-items: stretch;justify-content: center;background-color: white;position: relative;}#sk-container-id-4 div.sk-item::before, #sk-container-id-4 div.sk-parallel-item::before {content: \"\";position: absolute;border-left: 1px solid gray;box-sizing: border-box;top: 0;bottom: 0;left: 50%;z-index: -1;}#sk-container-id-4 div.sk-parallel-item {display: flex;flex-direction: column;z-index: 1;position: relative;background-color: white;}#sk-container-id-4 div.sk-parallel-item:first-child::after {align-self: flex-end;width: 50%;}#sk-container-id-4 div.sk-parallel-item:last-child::after {align-self: flex-start;width: 50%;}#sk-container-id-4 div.sk-parallel-item:only-child::after {width: 0;}#sk-container-id-4 div.sk-dashed-wrapped {border: 1px dashed gray;margin: 0 0.4em 0.5em 0.4em;box-sizing: border-box;padding-bottom: 0.4em;background-color: white;}#sk-container-id-4 div.sk-label label {font-family: monospace;font-weight: bold;display: inline-block;line-height: 1.2em;}#sk-container-id-4 div.sk-label-container {text-align: center;}#sk-container-id-4 div.sk-container {/* jupyter's `normalize.less` sets `[hidden] { display: none; }` but bootstrap.min.css set `[hidden] { display: none !important; }` so we also need the `!important` here to be able to override the default hidden behavior on the sphinx rendered scikit-learn.org. See: https://github.com/scikit-learn/scikit-learn/issues/21755 */display: inline-block !important;position: relative;}#sk-container-id-4 div.sk-text-repr-fallback {display: none;}</style><div id=\"sk-container-id-4\" class=\"sk-top-container\"><div class=\"sk-text-repr-fallback\"><pre>RandomForestRegressor()</pre><b>In a Jupyter environment, please rerun this cell to show the HTML representation or trust the notebook. <br />On GitHub, the HTML representation is unable to render, please try loading this page with nbviewer.org.</b></div><div class=\"sk-container\" hidden><div class=\"sk-item\"><div class=\"sk-estimator sk-toggleable\"><input class=\"sk-toggleable__control sk-hidden--visually\" id=\"sk-estimator-id-4\" type=\"checkbox\" checked><label for=\"sk-estimator-id-4\" class=\"sk-toggleable__label sk-toggleable__label-arrow\">RandomForestRegressor</label><div class=\"sk-toggleable__content\"><pre>RandomForestRegressor()</pre></div></div></div></div></div>"
      ],
      "text/plain": [
       "RandomForestRegressor()"
      ]
     },
     "execution_count": 84,
     "metadata": {},
     "output_type": "execute_result"
    }
   ],
   "source": [
    "rfr.fit(xtr, ytr)"
   ]
  },
  {
   "cell_type": "code",
   "execution_count": 85,
   "id": "8076947c",
   "metadata": {},
   "outputs": [],
   "source": [
    "predrfr = rfr.predict(xte)"
   ]
  },
  {
   "cell_type": "code",
   "execution_count": 86,
   "id": "e24b8212",
   "metadata": {},
   "outputs": [
    {
     "name": "stdout",
     "output_type": "stream",
     "text": [
      "194.29820792956684\n"
     ]
    }
   ],
   "source": [
    "print(np.sqrt(mean_squared_error(predrfr, yte)))"
   ]
  },
  {
   "cell_type": "code",
   "execution_count": 87,
   "id": "0e8cd9f6",
   "metadata": {},
   "outputs": [],
   "source": [
    "encoder(test)"
   ]
  },
  {
   "cell_type": "code",
   "execution_count": 88,
   "id": "81be6907",
   "metadata": {},
   "outputs": [
    {
     "data": {
      "text/html": [
       "<div>\n",
       "<style scoped>\n",
       "    .dataframe tbody tr th:only-of-type {\n",
       "        vertical-align: middle;\n",
       "    }\n",
       "\n",
       "    .dataframe tbody tr th {\n",
       "        vertical-align: top;\n",
       "    }\n",
       "\n",
       "    .dataframe thead th {\n",
       "        text-align: right;\n",
       "    }\n",
       "</style>\n",
       "<table border=\"1\" class=\"dataframe\">\n",
       "  <thead>\n",
       "    <tr style=\"text-align: right;\">\n",
       "      <th></th>\n",
       "      <th>ID</th>\n",
       "      <th>추석까지 남은 기간(주)</th>\n",
       "      <th>가격(원)</th>\n",
       "      <th>프로모션 여부</th>\n",
       "    </tr>\n",
       "  </thead>\n",
       "  <tbody>\n",
       "    <tr>\n",
       "      <th>0</th>\n",
       "      <td>TEST_0000</td>\n",
       "      <td>2</td>\n",
       "      <td>113000</td>\n",
       "      <td>0</td>\n",
       "    </tr>\n",
       "    <tr>\n",
       "      <th>1</th>\n",
       "      <td>TEST_0001</td>\n",
       "      <td>0</td>\n",
       "      <td>224000</td>\n",
       "      <td>0</td>\n",
       "    </tr>\n",
       "    <tr>\n",
       "      <th>2</th>\n",
       "      <td>TEST_0002</td>\n",
       "      <td>2</td>\n",
       "      <td>150000</td>\n",
       "      <td>0</td>\n",
       "    </tr>\n",
       "    <tr>\n",
       "      <th>3</th>\n",
       "      <td>TEST_0003</td>\n",
       "      <td>1</td>\n",
       "      <td>132000</td>\n",
       "      <td>0</td>\n",
       "    </tr>\n",
       "    <tr>\n",
       "      <th>4</th>\n",
       "      <td>TEST_0004</td>\n",
       "      <td>0</td>\n",
       "      <td>146000</td>\n",
       "      <td>0</td>\n",
       "    </tr>\n",
       "    <tr>\n",
       "      <th>...</th>\n",
       "      <td>...</td>\n",
       "      <td>...</td>\n",
       "      <td>...</td>\n",
       "      <td>...</td>\n",
       "    </tr>\n",
       "    <tr>\n",
       "      <th>3910</th>\n",
       "      <td>TEST_3910</td>\n",
       "      <td>1</td>\n",
       "      <td>220000</td>\n",
       "      <td>1</td>\n",
       "    </tr>\n",
       "    <tr>\n",
       "      <th>3911</th>\n",
       "      <td>TEST_3911</td>\n",
       "      <td>0</td>\n",
       "      <td>142000</td>\n",
       "      <td>0</td>\n",
       "    </tr>\n",
       "    <tr>\n",
       "      <th>3912</th>\n",
       "      <td>TEST_3912</td>\n",
       "      <td>2</td>\n",
       "      <td>225000</td>\n",
       "      <td>0</td>\n",
       "    </tr>\n",
       "    <tr>\n",
       "      <th>3913</th>\n",
       "      <td>TEST_3913</td>\n",
       "      <td>1</td>\n",
       "      <td>221000</td>\n",
       "      <td>1</td>\n",
       "    </tr>\n",
       "    <tr>\n",
       "      <th>3914</th>\n",
       "      <td>TEST_3914</td>\n",
       "      <td>0</td>\n",
       "      <td>142000</td>\n",
       "      <td>0</td>\n",
       "    </tr>\n",
       "  </tbody>\n",
       "</table>\n",
       "<p>3915 rows × 4 columns</p>\n",
       "</div>"
      ],
      "text/plain": [
       "             ID  추석까지 남은 기간(주)   가격(원)  프로모션 여부\n",
       "0     TEST_0000              2  113000        0\n",
       "1     TEST_0001              0  224000        0\n",
       "2     TEST_0002              2  150000        0\n",
       "3     TEST_0003              1  132000        0\n",
       "4     TEST_0004              0  146000        0\n",
       "...         ...            ...     ...      ...\n",
       "3910  TEST_3910              1  220000        1\n",
       "3911  TEST_3911              0  142000        0\n",
       "3912  TEST_3912              2  225000        0\n",
       "3913  TEST_3913              1  221000        1\n",
       "3914  TEST_3914              0  142000        0\n",
       "\n",
       "[3915 rows x 4 columns]"
      ]
     },
     "execution_count": 88,
     "metadata": {},
     "output_type": "execute_result"
    }
   ],
   "source": [
    "test"
   ]
  },
  {
   "cell_type": "code",
   "execution_count": 92,
   "id": "03f443ba",
   "metadata": {},
   "outputs": [],
   "source": [
    "test2 = pd.concat([test, shopcatt, cityt, provt, shoptypet, presentt], axis=1)"
   ]
  },
  {
   "cell_type": "code",
   "execution_count": 94,
   "id": "b96b8737",
   "metadata": {},
   "outputs": [],
   "source": [
    "test2['가격(원)'] = mmssc.transform(test2[['가격(원)']])"
   ]
  },
  {
   "cell_type": "code",
   "execution_count": 98,
   "id": "c5387e24",
   "metadata": {},
   "outputs": [],
   "source": [
    "testid = test2['ID']\n",
    "test2.drop(columns='ID', inplace=True)"
   ]
  },
  {
   "cell_type": "code",
   "execution_count": 100,
   "id": "3f679a7e",
   "metadata": {},
   "outputs": [],
   "source": [
    "rfrfinal = rfr.predict(test2)"
   ]
  },
  {
   "cell_type": "code",
   "execution_count": 101,
   "id": "0d13dc69",
   "metadata": {},
   "outputs": [],
   "source": [
    "rfrfinal = pd.DataFrame(rfrfinal)"
   ]
  },
  {
   "cell_type": "code",
   "execution_count": 102,
   "id": "9f8512ca",
   "metadata": {},
   "outputs": [],
   "source": [
    "subs2 = pd.concat([testid, rfrfinal], axis=1)"
   ]
  },
  {
   "cell_type": "code",
   "execution_count": 103,
   "id": "f31434f0",
   "metadata": {},
   "outputs": [],
   "source": [
    "subs2.columns = ['ID', '수요량']"
   ]
  },
  {
   "cell_type": "code",
   "execution_count": 104,
   "id": "92d2503d",
   "metadata": {},
   "outputs": [],
   "source": [
    "subs2 = subs2.set_index('ID')"
   ]
  },
  {
   "cell_type": "code",
   "execution_count": 105,
   "id": "e907c83a",
   "metadata": {},
   "outputs": [],
   "source": [
    "subs2.to_csv(\"subs2.csv\")"
   ]
  },
  {
   "cell_type": "code",
   "execution_count": 106,
   "id": "67412504",
   "metadata": {},
   "outputs": [],
   "source": [
    "sub2sround = subs2.copy()"
   ]
  },
  {
   "cell_type": "code",
   "execution_count": 107,
   "id": "ba4632ed",
   "metadata": {},
   "outputs": [
    {
     "data": {
      "text/plain": [
       "36.1"
      ]
     },
     "execution_count": 107,
     "metadata": {},
     "output_type": "execute_result"
    }
   ],
   "source": [
    "sub2sround.iloc[1, 0]"
   ]
  },
  {
   "cell_type": "code",
   "execution_count": 108,
   "id": "b8eacc7a",
   "metadata": {},
   "outputs": [],
   "source": [
    "for i in range(len(sub2sround)):\n",
    "    sub2sround.iloc[i, 0] = round(sub2sround.iloc[i, 0])"
   ]
  },
  {
   "cell_type": "code",
   "execution_count": 109,
   "id": "54d4f209",
   "metadata": {},
   "outputs": [],
   "source": [
    "sub2sround.to_csv('rounded2.csv')"
   ]
  },
  {
   "cell_type": "code",
   "execution_count": 110,
   "id": "34c12f12",
   "metadata": {},
   "outputs": [],
   "source": [
    "import xgboost\n",
    "from xgboost import XGBRegressor"
   ]
  },
  {
   "cell_type": "code",
   "execution_count": 111,
   "id": "a3325c1e",
   "metadata": {},
   "outputs": [],
   "source": [
    "xgbr = XGBRegressor()"
   ]
  },
  {
   "cell_type": "code",
   "execution_count": 112,
   "id": "b0235285",
   "metadata": {},
   "outputs": [
    {
     "data": {
      "text/html": [
       "<style>#sk-container-id-5 {color: black;background-color: white;}#sk-container-id-5 pre{padding: 0;}#sk-container-id-5 div.sk-toggleable {background-color: white;}#sk-container-id-5 label.sk-toggleable__label {cursor: pointer;display: block;width: 100%;margin-bottom: 0;padding: 0.3em;box-sizing: border-box;text-align: center;}#sk-container-id-5 label.sk-toggleable__label-arrow:before {content: \"▸\";float: left;margin-right: 0.25em;color: #696969;}#sk-container-id-5 label.sk-toggleable__label-arrow:hover:before {color: black;}#sk-container-id-5 div.sk-estimator:hover label.sk-toggleable__label-arrow:before {color: black;}#sk-container-id-5 div.sk-toggleable__content {max-height: 0;max-width: 0;overflow: hidden;text-align: left;background-color: #f0f8ff;}#sk-container-id-5 div.sk-toggleable__content pre {margin: 0.2em;color: black;border-radius: 0.25em;background-color: #f0f8ff;}#sk-container-id-5 input.sk-toggleable__control:checked~div.sk-toggleable__content {max-height: 200px;max-width: 100%;overflow: auto;}#sk-container-id-5 input.sk-toggleable__control:checked~label.sk-toggleable__label-arrow:before {content: \"▾\";}#sk-container-id-5 div.sk-estimator input.sk-toggleable__control:checked~label.sk-toggleable__label {background-color: #d4ebff;}#sk-container-id-5 div.sk-label input.sk-toggleable__control:checked~label.sk-toggleable__label {background-color: #d4ebff;}#sk-container-id-5 input.sk-hidden--visually {border: 0;clip: rect(1px 1px 1px 1px);clip: rect(1px, 1px, 1px, 1px);height: 1px;margin: -1px;overflow: hidden;padding: 0;position: absolute;width: 1px;}#sk-container-id-5 div.sk-estimator {font-family: monospace;background-color: #f0f8ff;border: 1px dotted black;border-radius: 0.25em;box-sizing: border-box;margin-bottom: 0.5em;}#sk-container-id-5 div.sk-estimator:hover {background-color: #d4ebff;}#sk-container-id-5 div.sk-parallel-item::after {content: \"\";width: 100%;border-bottom: 1px solid gray;flex-grow: 1;}#sk-container-id-5 div.sk-label:hover label.sk-toggleable__label {background-color: #d4ebff;}#sk-container-id-5 div.sk-serial::before {content: \"\";position: absolute;border-left: 1px solid gray;box-sizing: border-box;top: 0;bottom: 0;left: 50%;z-index: 0;}#sk-container-id-5 div.sk-serial {display: flex;flex-direction: column;align-items: center;background-color: white;padding-right: 0.2em;padding-left: 0.2em;position: relative;}#sk-container-id-5 div.sk-item {position: relative;z-index: 1;}#sk-container-id-5 div.sk-parallel {display: flex;align-items: stretch;justify-content: center;background-color: white;position: relative;}#sk-container-id-5 div.sk-item::before, #sk-container-id-5 div.sk-parallel-item::before {content: \"\";position: absolute;border-left: 1px solid gray;box-sizing: border-box;top: 0;bottom: 0;left: 50%;z-index: -1;}#sk-container-id-5 div.sk-parallel-item {display: flex;flex-direction: column;z-index: 1;position: relative;background-color: white;}#sk-container-id-5 div.sk-parallel-item:first-child::after {align-self: flex-end;width: 50%;}#sk-container-id-5 div.sk-parallel-item:last-child::after {align-self: flex-start;width: 50%;}#sk-container-id-5 div.sk-parallel-item:only-child::after {width: 0;}#sk-container-id-5 div.sk-dashed-wrapped {border: 1px dashed gray;margin: 0 0.4em 0.5em 0.4em;box-sizing: border-box;padding-bottom: 0.4em;background-color: white;}#sk-container-id-5 div.sk-label label {font-family: monospace;font-weight: bold;display: inline-block;line-height: 1.2em;}#sk-container-id-5 div.sk-label-container {text-align: center;}#sk-container-id-5 div.sk-container {/* jupyter's `normalize.less` sets `[hidden] { display: none; }` but bootstrap.min.css set `[hidden] { display: none !important; }` so we also need the `!important` here to be able to override the default hidden behavior on the sphinx rendered scikit-learn.org. See: https://github.com/scikit-learn/scikit-learn/issues/21755 */display: inline-block !important;position: relative;}#sk-container-id-5 div.sk-text-repr-fallback {display: none;}</style><div id=\"sk-container-id-5\" class=\"sk-top-container\"><div class=\"sk-text-repr-fallback\"><pre>XGBRegressor(base_score=None, booster=None, callbacks=None,\n",
       "             colsample_bylevel=None, colsample_bynode=None,\n",
       "             colsample_bytree=None, early_stopping_rounds=None,\n",
       "             enable_categorical=False, eval_metric=None, feature_types=None,\n",
       "             gamma=None, gpu_id=None, grow_policy=None, importance_type=None,\n",
       "             interaction_constraints=None, learning_rate=None, max_bin=None,\n",
       "             max_cat_threshold=None, max_cat_to_onehot=None,\n",
       "             max_delta_step=None, max_depth=None, max_leaves=None,\n",
       "             min_child_weight=None, missing=nan, monotone_constraints=None,\n",
       "             n_estimators=100, n_jobs=None, num_parallel_tree=None,\n",
       "             predictor=None, random_state=None, ...)</pre><b>In a Jupyter environment, please rerun this cell to show the HTML representation or trust the notebook. <br />On GitHub, the HTML representation is unable to render, please try loading this page with nbviewer.org.</b></div><div class=\"sk-container\" hidden><div class=\"sk-item\"><div class=\"sk-estimator sk-toggleable\"><input class=\"sk-toggleable__control sk-hidden--visually\" id=\"sk-estimator-id-5\" type=\"checkbox\" checked><label for=\"sk-estimator-id-5\" class=\"sk-toggleable__label sk-toggleable__label-arrow\">XGBRegressor</label><div class=\"sk-toggleable__content\"><pre>XGBRegressor(base_score=None, booster=None, callbacks=None,\n",
       "             colsample_bylevel=None, colsample_bynode=None,\n",
       "             colsample_bytree=None, early_stopping_rounds=None,\n",
       "             enable_categorical=False, eval_metric=None, feature_types=None,\n",
       "             gamma=None, gpu_id=None, grow_policy=None, importance_type=None,\n",
       "             interaction_constraints=None, learning_rate=None, max_bin=None,\n",
       "             max_cat_threshold=None, max_cat_to_onehot=None,\n",
       "             max_delta_step=None, max_depth=None, max_leaves=None,\n",
       "             min_child_weight=None, missing=nan, monotone_constraints=None,\n",
       "             n_estimators=100, n_jobs=None, num_parallel_tree=None,\n",
       "             predictor=None, random_state=None, ...)</pre></div></div></div></div></div>"
      ],
      "text/plain": [
       "XGBRegressor(base_score=None, booster=None, callbacks=None,\n",
       "             colsample_bylevel=None, colsample_bynode=None,\n",
       "             colsample_bytree=None, early_stopping_rounds=None,\n",
       "             enable_categorical=False, eval_metric=None, feature_types=None,\n",
       "             gamma=None, gpu_id=None, grow_policy=None, importance_type=None,\n",
       "             interaction_constraints=None, learning_rate=None, max_bin=None,\n",
       "             max_cat_threshold=None, max_cat_to_onehot=None,\n",
       "             max_delta_step=None, max_depth=None, max_leaves=None,\n",
       "             min_child_weight=None, missing=nan, monotone_constraints=None,\n",
       "             n_estimators=100, n_jobs=None, num_parallel_tree=None,\n",
       "             predictor=None, random_state=None, ...)"
      ]
     },
     "execution_count": 112,
     "metadata": {},
     "output_type": "execute_result"
    }
   ],
   "source": [
    "xgbr.fit(xtr, ytr)"
   ]
  },
  {
   "cell_type": "code",
   "execution_count": 114,
   "id": "2647c037",
   "metadata": {},
   "outputs": [],
   "source": [
    "predxgb = pd.DataFrame(xgbr.predict(xte))"
   ]
  },
  {
   "cell_type": "code",
   "execution_count": 115,
   "id": "a8e71383",
   "metadata": {},
   "outputs": [
    {
     "name": "stdout",
     "output_type": "stream",
     "text": [
      "173.8626474709721\n"
     ]
    }
   ],
   "source": [
    "print(np.sqrt(mean_squared_error(predxgb, yte)))"
   ]
  },
  {
   "cell_type": "code",
   "execution_count": 118,
   "id": "5e895718",
   "metadata": {},
   "outputs": [],
   "source": [
    "xgbs = pd.DataFrame(xgbr.predict(test2))"
   ]
  },
  {
   "cell_type": "code",
   "execution_count": 119,
   "id": "cd7494b7",
   "metadata": {},
   "outputs": [],
   "source": [
    "xgbsubs = pd.concat([testid, xgbs], axis=1)"
   ]
  },
  {
   "cell_type": "code",
   "execution_count": 121,
   "id": "f492000a",
   "metadata": {},
   "outputs": [],
   "source": [
    "xgbsubs = xgbsubs.set_index(\"ID\")"
   ]
  },
  {
   "cell_type": "code",
   "execution_count": 125,
   "id": "9925a632",
   "metadata": {},
   "outputs": [],
   "source": [
    "xgbsubs.columns = ['수요량']"
   ]
  },
  {
   "cell_type": "code",
   "execution_count": 127,
   "id": "f783f698",
   "metadata": {},
   "outputs": [],
   "source": [
    "xgbsubs.to_csv(\"xgbs.csv\")"
   ]
  },
  {
   "cell_type": "code",
   "execution_count": 128,
   "id": "af6763cf",
   "metadata": {},
   "outputs": [],
   "source": [
    "for i in range(len(xgbsubs)):\n",
    "    xgbsubs.iloc[i, 0] = round(xgbsubs.iloc[i, 0])"
   ]
  },
  {
   "cell_type": "code",
   "execution_count": 129,
   "id": "6bdffbaa",
   "metadata": {},
   "outputs": [],
   "source": [
    "xgbsubs.to_csv(\"xgbround.csv\")"
   ]
  },
  {
   "cell_type": "code",
   "execution_count": null,
   "id": "2a1d60ed",
   "metadata": {},
   "outputs": [],
   "source": []
  }
 ],
 "metadata": {
  "kernelspec": {
   "display_name": "Python 3 (ipykernel)",
   "language": "python",
   "name": "python3"
  },
  "language_info": {
   "codemirror_mode": {
    "name": "ipython",
    "version": 3
   },
   "file_extension": ".py",
   "mimetype": "text/x-python",
   "name": "python",
   "nbconvert_exporter": "python",
   "pygments_lexer": "ipython3",
   "version": "3.11.4"
  }
 },
 "nbformat": 4,
 "nbformat_minor": 5
}
