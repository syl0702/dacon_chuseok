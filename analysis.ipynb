{
 "cells": [
  {
   "cell_type": "code",
   "execution_count": 2,
   "id": "bd3dd6a8-6b6e-40b3-b300-d0f37540d2f9",
   "metadata": {},
   "outputs": [],
   "source": [
    "import pandas as pd\n",
    "import numpy as np\n",
    "import sklearn\n",
    "import seaborn as sns\n",
    "import matplotlib as mpl\n",
    "from sklearn.preprocessing import OneHotEncoder"
   ]
  },
  {
   "cell_type": "code",
   "execution_count": 11,
   "id": "0c1d1a04-3070-486a-b557-56321d641389",
   "metadata": {},
   "outputs": [],
   "source": [
    "df = pd.read_csv('./data./train.csv')\n",
    "test_df = pd.read_csv('./data./test.csv')"
   ]
  },
  {
   "cell_type": "code",
   "execution_count": 8,
   "id": "82827c8e-b257-4d3e-8d59-6e5736e208f8",
   "metadata": {},
   "outputs": [
    {
     "data": {
      "text/plain": [
       "RangeIndex(start=0, stop=5872, step=1)"
      ]
     },
     "execution_count": 8,
     "metadata": {},
     "output_type": "execute_result"
    }
   ],
   "source": [
    "df.index"
   ]
  },
  {
   "cell_type": "code",
   "execution_count": 9,
   "id": "246681df-1180-4188-a2c1-e10b4ecb5f3d",
   "metadata": {},
   "outputs": [
    {
     "name": "stdout",
     "output_type": "stream",
     "text": [
      "<class 'pandas.core.frame.DataFrame'>\n",
      "RangeIndex: 5872 entries, 0 to 5871\n",
      "Data columns (total 10 columns):\n",
      " #   Column         Non-Null Count  Dtype \n",
      "---  ------         --------------  ----- \n",
      " 0   ID             5872 non-null   object\n",
      " 1   추석까지 남은 기간(주)  5872 non-null   int64 \n",
      " 2   쇼핑몰 구분         5872 non-null   object\n",
      " 3   가격(원)          5872 non-null   int64 \n",
      " 4   프로모션 여부        5872 non-null   int64 \n",
      " 5   도시 유형          5872 non-null   object\n",
      " 6   지역 유형          5872 non-null   object\n",
      " 7   쇼핑몰 유형         5872 non-null   object\n",
      " 8   선물 유형          5872 non-null   object\n",
      " 9   수요량            5872 non-null   int64 \n",
      "dtypes: int64(4), object(6)\n",
      "memory usage: 458.9+ KB\n"
     ]
    }
   ],
   "source": [
    "df.info()"
   ]
  },
  {
   "cell_type": "code",
   "execution_count": 10,
   "id": "671cab39-260b-4433-933a-79c0c51becbd",
   "metadata": {},
   "outputs": [
    {
     "data": {
      "text/html": [
       "<div>\n",
       "<style scoped>\n",
       "    .dataframe tbody tr th:only-of-type {\n",
       "        vertical-align: middle;\n",
       "    }\n",
       "\n",
       "    .dataframe tbody tr th {\n",
       "        vertical-align: top;\n",
       "    }\n",
       "\n",
       "    .dataframe thead th {\n",
       "        text-align: right;\n",
       "    }\n",
       "</style>\n",
       "<table border=\"1\" class=\"dataframe\">\n",
       "  <thead>\n",
       "    <tr style=\"text-align: right;\">\n",
       "      <th></th>\n",
       "      <th>ID</th>\n",
       "      <th>추석까지 남은 기간(주)</th>\n",
       "      <th>쇼핑몰 구분</th>\n",
       "      <th>가격(원)</th>\n",
       "      <th>프로모션 여부</th>\n",
       "      <th>도시 유형</th>\n",
       "      <th>지역 유형</th>\n",
       "      <th>쇼핑몰 유형</th>\n",
       "      <th>선물 유형</th>\n",
       "      <th>수요량</th>\n",
       "    </tr>\n",
       "  </thead>\n",
       "  <tbody>\n",
       "    <tr>\n",
       "      <th>0</th>\n",
       "      <td>TRAIN_0000</td>\n",
       "      <td>1</td>\n",
       "      <td>쇼핑몰 15</td>\n",
       "      <td>212000</td>\n",
       "      <td>0</td>\n",
       "      <td>도시 6</td>\n",
       "      <td>지역 1</td>\n",
       "      <td>쇼핑몰 유형 2</td>\n",
       "      <td>명절혼합과일선물세트</td>\n",
       "      <td>28</td>\n",
       "    </tr>\n",
       "    <tr>\n",
       "      <th>1</th>\n",
       "      <td>TRAIN_0001</td>\n",
       "      <td>2</td>\n",
       "      <td>쇼핑몰 72</td>\n",
       "      <td>113000</td>\n",
       "      <td>0</td>\n",
       "      <td>도시 21</td>\n",
       "      <td>지역 1</td>\n",
       "      <td>쇼핑몰 유형 1</td>\n",
       "      <td>발효홍삼선물세트</td>\n",
       "      <td>27</td>\n",
       "    </tr>\n",
       "    <tr>\n",
       "      <th>2</th>\n",
       "      <td>TRAIN_0002</td>\n",
       "      <td>0</td>\n",
       "      <td>쇼핑몰 15</td>\n",
       "      <td>67000</td>\n",
       "      <td>0</td>\n",
       "      <td>도시 6</td>\n",
       "      <td>지역 1</td>\n",
       "      <td>쇼핑몰 유형 2</td>\n",
       "      <td>실속스팸선물세트</td>\n",
       "      <td>769</td>\n",
       "    </tr>\n",
       "    <tr>\n",
       "      <th>3</th>\n",
       "      <td>TRAIN_0003</td>\n",
       "      <td>1</td>\n",
       "      <td>쇼핑몰 13</td>\n",
       "      <td>206000</td>\n",
       "      <td>0</td>\n",
       "      <td>도시 12</td>\n",
       "      <td>지역 3</td>\n",
       "      <td>쇼핑몰 유형 1</td>\n",
       "      <td>자연산프리미엄버섯선물세트</td>\n",
       "      <td>27</td>\n",
       "    </tr>\n",
       "    <tr>\n",
       "      <th>4</th>\n",
       "      <td>TRAIN_0004</td>\n",
       "      <td>1</td>\n",
       "      <td>쇼핑몰 65</td>\n",
       "      <td>140000</td>\n",
       "      <td>0</td>\n",
       "      <td>도시 16</td>\n",
       "      <td>지역 2</td>\n",
       "      <td>쇼핑몰 유형 2</td>\n",
       "      <td>자연산새우선물세트</td>\n",
       "      <td>337</td>\n",
       "    </tr>\n",
       "  </tbody>\n",
       "</table>\n",
       "</div>"
      ],
      "text/plain": [
       "           ID  추석까지 남은 기간(주)  쇼핑몰 구분   가격(원)  프로모션 여부  도시 유형 지역 유형    쇼핑몰 유형  \\\n",
       "0  TRAIN_0000              1  쇼핑몰 15  212000        0   도시 6  지역 1  쇼핑몰 유형 2   \n",
       "1  TRAIN_0001              2  쇼핑몰 72  113000        0  도시 21  지역 1  쇼핑몰 유형 1   \n",
       "2  TRAIN_0002              0  쇼핑몰 15   67000        0   도시 6  지역 1  쇼핑몰 유형 2   \n",
       "3  TRAIN_0003              1  쇼핑몰 13  206000        0  도시 12  지역 3  쇼핑몰 유형 1   \n",
       "4  TRAIN_0004              1  쇼핑몰 65  140000        0  도시 16  지역 2  쇼핑몰 유형 2   \n",
       "\n",
       "           선물 유형  수요량  \n",
       "0     명절혼합과일선물세트   28  \n",
       "1       발효홍삼선물세트   27  \n",
       "2       실속스팸선물세트  769  \n",
       "3  자연산프리미엄버섯선물세트   27  \n",
       "4      자연산새우선물세트  337  "
      ]
     },
     "execution_count": 10,
     "metadata": {},
     "output_type": "execute_result"
    }
   ],
   "source": [
    "df.head()"
   ]
  },
  {
   "cell_type": "code",
   "execution_count": 12,
   "id": "cb944fd7-2a33-45d6-9f8e-37b873ecd77f",
   "metadata": {},
   "outputs": [
    {
     "data": {
      "text/html": [
       "<div>\n",
       "<style scoped>\n",
       "    .dataframe tbody tr th:only-of-type {\n",
       "        vertical-align: middle;\n",
       "    }\n",
       "\n",
       "    .dataframe tbody tr th {\n",
       "        vertical-align: top;\n",
       "    }\n",
       "\n",
       "    .dataframe thead th {\n",
       "        text-align: right;\n",
       "    }\n",
       "</style>\n",
       "<table border=\"1\" class=\"dataframe\">\n",
       "  <thead>\n",
       "    <tr style=\"text-align: right;\">\n",
       "      <th></th>\n",
       "      <th>ID</th>\n",
       "      <th>추석까지 남은 기간(주)</th>\n",
       "      <th>쇼핑몰 구분</th>\n",
       "      <th>가격(원)</th>\n",
       "      <th>프로모션 여부</th>\n",
       "      <th>도시 유형</th>\n",
       "      <th>지역 유형</th>\n",
       "      <th>쇼핑몰 유형</th>\n",
       "      <th>선물 유형</th>\n",
       "    </tr>\n",
       "  </thead>\n",
       "  <tbody>\n",
       "    <tr>\n",
       "      <th>0</th>\n",
       "      <td>TEST_0000</td>\n",
       "      <td>2</td>\n",
       "      <td>쇼핑몰 71</td>\n",
       "      <td>113000</td>\n",
       "      <td>0</td>\n",
       "      <td>도시 16</td>\n",
       "      <td>지역 3</td>\n",
       "      <td>쇼핑몰 유형 1</td>\n",
       "      <td>상주반건시곶감선물세트</td>\n",
       "    </tr>\n",
       "    <tr>\n",
       "      <th>1</th>\n",
       "      <td>TEST_0001</td>\n",
       "      <td>0</td>\n",
       "      <td>쇼핑몰 57</td>\n",
       "      <td>224000</td>\n",
       "      <td>0</td>\n",
       "      <td>도시 6</td>\n",
       "      <td>지역 1</td>\n",
       "      <td>쇼핑몰 유형 2</td>\n",
       "      <td>고급한과선물세트</td>\n",
       "    </tr>\n",
       "    <tr>\n",
       "      <th>2</th>\n",
       "      <td>TEST_0002</td>\n",
       "      <td>2</td>\n",
       "      <td>쇼핑몰 38</td>\n",
       "      <td>150000</td>\n",
       "      <td>0</td>\n",
       "      <td>도시 16</td>\n",
       "      <td>지역 1</td>\n",
       "      <td>쇼핑몰 유형 2</td>\n",
       "      <td>최고의선택스팸선물세트</td>\n",
       "    </tr>\n",
       "    <tr>\n",
       "      <th>3</th>\n",
       "      <td>TEST_0003</td>\n",
       "      <td>1</td>\n",
       "      <td>쇼핑몰 50</td>\n",
       "      <td>132000</td>\n",
       "      <td>0</td>\n",
       "      <td>도시 16</td>\n",
       "      <td>지역 3</td>\n",
       "      <td>쇼핑몰 유형 1</td>\n",
       "      <td>재래김특선세트</td>\n",
       "    </tr>\n",
       "    <tr>\n",
       "      <th>4</th>\n",
       "      <td>TEST_0004</td>\n",
       "      <td>0</td>\n",
       "      <td>쇼핑몰 55</td>\n",
       "      <td>146000</td>\n",
       "      <td>0</td>\n",
       "      <td>도시 5</td>\n",
       "      <td>지역 4</td>\n",
       "      <td>쇼핑몰 유형 2</td>\n",
       "      <td>명품샤인머스캣선물세트</td>\n",
       "    </tr>\n",
       "  </tbody>\n",
       "</table>\n",
       "</div>"
      ],
      "text/plain": [
       "          ID  추석까지 남은 기간(주)  쇼핑몰 구분   가격(원)  프로모션 여부  도시 유형 지역 유형    쇼핑몰 유형  \\\n",
       "0  TEST_0000              2  쇼핑몰 71  113000        0  도시 16  지역 3  쇼핑몰 유형 1   \n",
       "1  TEST_0001              0  쇼핑몰 57  224000        0   도시 6  지역 1  쇼핑몰 유형 2   \n",
       "2  TEST_0002              2  쇼핑몰 38  150000        0  도시 16  지역 1  쇼핑몰 유형 2   \n",
       "3  TEST_0003              1  쇼핑몰 50  132000        0  도시 16  지역 3  쇼핑몰 유형 1   \n",
       "4  TEST_0004              0  쇼핑몰 55  146000        0   도시 5  지역 4  쇼핑몰 유형 2   \n",
       "\n",
       "         선물 유형  \n",
       "0  상주반건시곶감선물세트  \n",
       "1     고급한과선물세트  \n",
       "2  최고의선택스팸선물세트  \n",
       "3      재래김특선세트  \n",
       "4  명품샤인머스캣선물세트  "
      ]
     },
     "execution_count": 12,
     "metadata": {},
     "output_type": "execute_result"
    }
   ],
   "source": [
    "test_df.head()"
   ]
  },
  {
   "cell_type": "code",
   "execution_count": 13,
   "id": "6afa9e16-fd64-433e-8bcd-d0e0368841f4",
   "metadata": {},
   "outputs": [],
   "source": [
    "cols = ['쇼핑몰 구분', '도시 유형', '지역 유형', '쇼핑몰 유형', '선물 유형']"
   ]
  },
  {
   "cell_type": "code",
   "execution_count": 17,
   "id": "30609d7d-516c-4e15-8885-b6bd3b82aed5",
   "metadata": {},
   "outputs": [
    {
     "name": "stdout",
     "output_type": "stream",
     "text": [
      "쇼핑몰 구분 77\n",
      "도시 유형 24\n",
      "지역 유형 8\n",
      "쇼핑몰 유형 3\n",
      "선물 유형 51\n"
     ]
    }
   ],
   "source": [
    "for col in cols:\n",
    "    print(col, len(df[col].unique()))"
   ]
  },
  {
   "cell_type": "code",
   "execution_count": 18,
   "id": "043c3b0e-a609-4175-90f6-6b1e611b63b1",
   "metadata": {},
   "outputs": [
    {
     "name": "stdout",
     "output_type": "stream",
     "text": [
      "쇼핑몰 구분 77\n",
      "도시 유형 24\n",
      "지역 유형 8\n",
      "쇼핑몰 유형 3\n",
      "선물 유형 51\n"
     ]
    }
   ],
   "source": [
    "for col in cols:\n",
    "    print(col, len(test_df[col].unique()))"
   ]
  },
  {
   "cell_type": "code",
   "execution_count": null,
   "id": "effbb7b7-e260-4ee7-b65c-8e935a6a009f",
   "metadata": {},
   "outputs": [],
   "source": []
  }
 ],
 "metadata": {
  "kernelspec": {
   "display_name": "Python 3 (ipykernel)",
   "language": "python",
   "name": "python3"
  },
  "language_info": {
   "codemirror_mode": {
    "name": "ipython",
    "version": 3
   },
   "file_extension": ".py",
   "mimetype": "text/x-python",
   "name": "python",
   "nbconvert_exporter": "python",
   "pygments_lexer": "ipython3",
   "version": "3.11.4"
  }
 },
 "nbformat": 4,
 "nbformat_minor": 5
}
